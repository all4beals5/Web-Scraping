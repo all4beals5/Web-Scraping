{
 "cells": [
  {
   "cell_type": "code",
   "execution_count": 1,
   "metadata": {},
   "outputs": [],
   "source": [
    "from selenium import webdriver\n",
    "from selenium.webdriver.common.keys import Keys\n",
    "from bs4 import BeautifulSoup\n",
    "import re\n",
    "import pandas as pd\n",
    "import os"
   ]
  },
  {
   "cell_type": "code",
   "execution_count": 10,
   "metadata": {},
   "outputs": [],
   "source": [
    "url = \"https://www.bop.gov/about/statistics/population_statistics.jsp\"\n",
    "\n",
    "driver = webdriver.Chrome('C:/Users/bbeals/Selenium/chromedriver')\n",
    "driver.implicitly_wait(30)\n",
    "driver.get(url)"
   ]
  },
  {
   "cell_type": "code",
   "execution_count": 11,
   "metadata": {},
   "outputs": [],
   "source": [
    "button = driver.find_element_by_id('generate_btn')\n",
    "button.click()"
   ]
  },
  {
   "cell_type": "code",
   "execution_count": 4,
   "metadata": {},
   "outputs": [],
   "source": [
    "soup = BeautifulSoup(driver.page_source, 'lxml')\n",
    "#table = soup.find(id='pop_results')\n",
    "bop = soup.find(id='bop_results')\n",
    "private = soup.find(id='private_results')\n",
    "comm = soup.find(id='comm_results')\n",
    "\n",
    "locations = []\n",
    "states = []\n",
    "population = []"
   ]
  },
  {
   "cell_type": "code",
   "execution_count": 5,
   "metadata": {},
   "outputs": [],
   "source": [
    "bop_location = bop.findAll(class_='result-name')\n",
    "for bl in bop_location:\n",
    "    locations.append(bl.text)\n",
    "\n",
    "bop_state = bop.findAll(class_='result-state')\n",
    "for bl in bop_state:\n",
    "    states.append(bl.text)\n",
    "\n",
    "bop_population = bop.findAll(class_='result-pop')\n",
    "for bl in bop_population:\n",
    "    population.append(bl.text)"
   ]
  },
  {
   "cell_type": "code",
   "execution_count": 6,
   "metadata": {},
   "outputs": [],
   "source": [
    "private_location = private.findAll(class_='result-name')\n",
    "for pl in private_location:\n",
    "    locations.append(pl.text)\n",
    "\n",
    "private_state = private.findAll(class_='result-state')\n",
    "for pl in private_state:\n",
    "    states.append(pl.text)\n",
    "\n",
    "private_population = private.findAll(class_='result-pop')\n",
    "for pl in private_population:\n",
    "    population.append(pl.text)"
   ]
  },
  {
   "cell_type": "code",
   "execution_count": 7,
   "metadata": {},
   "outputs": [],
   "source": [
    "comm_location = comm.findAll(class_='result-name result-name-comm')\n",
    "for cl in comm_location:\n",
    "    locations.append(cl.text)\n",
    "\n",
    "for cl in comm_location:\n",
    "    states.append(0)\n",
    "\n",
    "comm_population = comm.findAll(class_='result-pop')\n",
    "for cl in comm_population:\n",
    "    population.append(cl.text)"
   ]
  },
  {
   "cell_type": "code",
   "execution_count": 8,
   "metadata": {},
   "outputs": [],
   "source": [
    "df = pd.DataFrame(dict(locations=locations, states=states, population=population))\n",
    "update_date = soup.find(id='updated_on')\n",
    "update_date = update_date.text\n",
    "path = 'C:/Users/bbeals/Dropbox (Personal)/Credit Data Analyst/Case Study - Incarceration/5 Case Study - Incarceration BOP Web Scraping/'\n",
    "file_name = 'BOP Weekly Population '+update_date+'.csv'\n",
    "df.to_csv(path+file_name, sep=',')"
   ]
  },
  {
   "cell_type": "code",
   "execution_count": 12,
   "metadata": {},
   "outputs": [],
   "source": [
    "driver.quit()"
   ]
  }
 ],
 "metadata": {
  "kernelspec": {
   "display_name": "Python 3",
   "language": "python",
   "name": "python3"
  },
  "language_info": {
   "codemirror_mode": {
    "name": "ipython",
    "version": 3
   },
   "file_extension": ".py",
   "mimetype": "text/x-python",
   "name": "python",
   "nbconvert_exporter": "python",
   "pygments_lexer": "ipython3",
   "version": "3.7.0"
  }
 },
 "nbformat": 4,
 "nbformat_minor": 2
}
